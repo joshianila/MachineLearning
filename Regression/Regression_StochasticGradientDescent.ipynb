{
 "cells": [
  {
   "cell_type": "code",
   "execution_count": 1,
   "metadata": {},
   "outputs": [],
   "source": [
    "import pandas as pd\n",
    "import numpy as np"
   ]
  },
  {
   "cell_type": "code",
   "execution_count": 2,
   "metadata": {},
   "outputs": [],
   "source": [
    "def addIntercept(df):\n",
    "    intercept = pd.DataFrame(np.ones((len(df),1)))\n",
    "    df = pd.concat((intercept,df),axis=1)\n",
    "    return df"
   ]
  },
  {
   "cell_type": "code",
   "execution_count": 3,
   "metadata": {},
   "outputs": [],
   "source": [
    "def trainTestSplit(df,splitPercentage):\n",
    "    df_train = df[df.index > len(df)*splitPercentage]\n",
    "    df_test = df[df.index <= len(df)*splitPercentage]\n",
    "    y_train = df_train.iloc[:,-1].values.reshape((len(df_train),1))\n",
    "    y_test = df_test.iloc[:,-1].values.reshape((len(df_test),1))\n",
    "    X_train = df_train.iloc[:,:-1].values\n",
    "    X_test = df_test.iloc[:,:-1].values\n",
    "    return X_train,X_test,y_train,y_test"
   ]
  },
  {
   "cell_type": "code",
   "execution_count": 4,
   "metadata": {},
   "outputs": [],
   "source": [
    "def initializeTheta(df_col_len):\n",
    "    theta = np.zeros((df_col_len-1,1))\n",
    "    return theta"
   ]
  },
  {
   "cell_type": "code",
   "execution_count": 5,
   "metadata": {},
   "outputs": [],
   "source": [
    "def costFunction(X,y,theta):\n",
    "    m = y.shape[0]\n",
    "    h_theta = X.dot(theta)\n",
    "    cost = (1/2*m)*(np.sum(np.square(h_theta - y)))\n",
    "    return cost"
   ]
  },
  {
   "cell_type": "code",
   "execution_count": 12,
   "metadata": {},
   "outputs": [],
   "source": [
    "def gradientDescent(learning_rate,theta,X_train,y_train,epochs):\n",
    "    m = X_train.shape[0]\n",
    "    cost = float('inf')\n",
    "    for i in range(epochs):\n",
    "        for j in range(m):\n",
    "            h_theta = X_train.dot(theta)\n",
    "            theta = theta - (1/m)*learning_rate*(X_train.T.dot((h_theta-y_train)))\n",
    "            cost += costFunction(X_train,y_train,theta)\n",
    "    return theta"
   ]
  },
  {
   "cell_type": "code",
   "execution_count": 13,
   "metadata": {},
   "outputs": [],
   "source": [
    "def pipeline(df):\n",
    "    df = addIntercept(df)\n",
    "    X_train,X_test,y_train,y_test = trainTestSplit(df,0.30)\n",
    "    theta = initializeTheta(len(df.columns))\n",
    "    theta = gradientDescent(1e-7,theta,X_train,y_train,10000)\n",
    "    mse = costFunction(X_test,y_test,theta)\n",
    "    return(mse)\n",
    "    "
   ]
  },
  {
   "cell_type": "code",
   "execution_count": 14,
   "metadata": {},
   "outputs": [
    {
     "name": "stdout",
     "output_type": "stream",
     "text": [
      "1990318.7853002988\n"
     ]
    }
   ],
   "source": [
    "if __name__ == \"__main__\":\n",
    "    df = pd.read_csv('real_estate_data.csv')\n",
    "    mse = pipeline(df)\n",
    "    print(mse)"
   ]
  },
  {
   "cell_type": "code",
   "execution_count": null,
   "metadata": {},
   "outputs": [],
   "source": []
  }
 ],
 "metadata": {
  "kernelspec": {
   "display_name": "Python 3",
   "language": "python",
   "name": "python3"
  },
  "language_info": {
   "codemirror_mode": {
    "name": "ipython",
    "version": 3
   },
   "file_extension": ".py",
   "mimetype": "text/x-python",
   "name": "python",
   "nbconvert_exporter": "python",
   "pygments_lexer": "ipython3",
   "version": "3.7.6"
  }
 },
 "nbformat": 4,
 "nbformat_minor": 4
}
