{
 "cells": [
  {
   "cell_type": "code",
   "execution_count": 17,
   "metadata": {},
   "outputs": [],
   "source": [
    "import pandas as pd\n",
    "import numpy as np\n",
    "from numpy.linalg import inv"
   ]
  },
  {
   "cell_type": "code",
   "execution_count": 18,
   "metadata": {},
   "outputs": [],
   "source": [
    "def trainTestSplit(df,splitPercentage):\n",
    "    '''test train splitting and converting it to numpy array'''\n",
    "    df_test = df[df.index <= len(df)*splitPercentage]\n",
    "    df_train = df[df.index > len(df)*splitPercentage]\n",
    "    y_test = df_test[df.columns[-1]].to_numpy().reshape(len(df_test),1)\n",
    "    y_train = df_train[df.columns[-1]].to_numpy().reshape(len(df_train),1)\n",
    "    X_test = df_test.iloc[:,0:len(df.columns)-1]\n",
    "    X_train = df_train.iloc[:,0:len(df.columns)-1]\n",
    "    return X_train,X_test,y_train,y_test"
   ]
  },
  {
   "cell_type": "code",
   "execution_count": 19,
   "metadata": {},
   "outputs": [],
   "source": [
    "def addX_0(X):\n",
    "    '''adding X_0 which would be 1'''\n",
    "    a = np.ones((X.shape[0],1))\n",
    "    X = np.append(a,X,axis=1)\n",
    "    return(X)"
   ]
  },
  {
   "cell_type": "code",
   "execution_count": 20,
   "metadata": {},
   "outputs": [],
   "source": [
    "def getTheta(X,y):\n",
    "    '''calculate theta values using normal equation'''\n",
    "    X_transpose = X.T\n",
    "    theta = inv(X_transpose.dot(X)).dot(X_transpose).dot(y)\n",
    "    return theta"
   ]
  },
  {
   "cell_type": "code",
   "execution_count": 21,
   "metadata": {},
   "outputs": [],
   "source": [
    "def mse(y_test,y_pred):\n",
    "    '''calculate MSE'''\n",
    "    arr_len = y_test.shape[0]\n",
    "    mse_val = 0\n",
    "    for i in range(arr_len):\n",
    "        mse_val += (y_pred[i] - y_test[i])**2\n",
    "    return mse_val"
   ]
  },
  {
   "cell_type": "code",
   "execution_count": 22,
   "metadata": {},
   "outputs": [],
   "source": [
    "def pipeline(df):\n",
    "    '''Pipeline for regression using Normal equation'''\n",
    "    X_train,X_test,y_train,y_test = trainTestSplit(df,0.30)\n",
    "    X_train = addX_0(X_train)\n",
    "    X_test = addX_0(X_test)\n",
    "    theta = getTheta(X_train,y_train)\n",
    "    y_pred = X_test.dot(theta)\n",
    "    return(mse(y_test,y_pred))"
   ]
  },
  {
   "cell_type": "code",
   "execution_count": 23,
   "metadata": {},
   "outputs": [
    {
     "name": "stdout",
     "output_type": "stream",
     "text": [
      "[9327.49647662]\n"
     ]
    }
   ],
   "source": [
    "if __name__ == \"__main__\":\n",
    "    df = pd.read_csv('real_estate_data.csv')\n",
    "    mse = pipeline(df)\n",
    "    print(mse)"
   ]
  },
  {
   "cell_type": "code",
   "execution_count": null,
   "metadata": {},
   "outputs": [],
   "source": []
  }
 ],
 "metadata": {
  "kernelspec": {
   "display_name": "Python 3",
   "language": "python",
   "name": "python3"
  },
  "language_info": {
   "codemirror_mode": {
    "name": "ipython",
    "version": 3
   },
   "file_extension": ".py",
   "mimetype": "text/x-python",
   "name": "python",
   "nbconvert_exporter": "python",
   "pygments_lexer": "ipython3",
   "version": "3.7.6"
  }
 },
 "nbformat": 4,
 "nbformat_minor": 4
}
